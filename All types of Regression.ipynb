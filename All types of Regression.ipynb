{
 "cells": [
  {
   "cell_type": "code",
   "execution_count": 1,
   "metadata": {},
   "outputs": [],
   "source": [
    "import numpy as np\n",
    "import pandas as pd\n",
    "import matplotlib.pyplot as plt\n",
    "import seaborn as sns"
   ]
  },
  {
   "cell_type": "code",
   "execution_count": 2,
   "metadata": {},
   "outputs": [],
   "source": [
    "df = pd.read_csv(\"../DATA/final_df.csv\")"
   ]
  },
  {
   "cell_type": "code",
   "execution_count": 3,
   "metadata": {},
   "outputs": [
    {
     "data": {
      "text/html": [
       "<div>\n",
       "<style scoped>\n",
       "    .dataframe tbody tr th:only-of-type {\n",
       "        vertical-align: middle;\n",
       "    }\n",
       "\n",
       "    .dataframe tbody tr th {\n",
       "        vertical-align: top;\n",
       "    }\n",
       "\n",
       "    .dataframe thead th {\n",
       "        text-align: right;\n",
       "    }\n",
       "</style>\n",
       "<table border=\"1\" class=\"dataframe\">\n",
       "  <thead>\n",
       "    <tr style=\"text-align: right;\">\n",
       "      <th></th>\n",
       "      <th>1stFlrSF</th>\n",
       "      <th>2ndFlrSF</th>\n",
       "      <th>3SsnPorch</th>\n",
       "      <th>BedroomAbvGr</th>\n",
       "      <th>BldgType_2fmCon</th>\n",
       "      <th>BldgType_Duplex</th>\n",
       "      <th>BldgType_Twnhs</th>\n",
       "      <th>BldgType_TwnhsE</th>\n",
       "      <th>BsmtCond_Gd</th>\n",
       "      <th>BsmtCond_None</th>\n",
       "      <th>...</th>\n",
       "      <th>SaleType_WD</th>\n",
       "      <th>ScreenPorch</th>\n",
       "      <th>Street_Pave</th>\n",
       "      <th>TotRmsAbvGrd</th>\n",
       "      <th>TotalBsmtSF</th>\n",
       "      <th>Utilities_NoSeWa</th>\n",
       "      <th>WoodDeckSF</th>\n",
       "      <th>YearBuilt</th>\n",
       "      <th>YearRemodAdd</th>\n",
       "      <th>YrSold</th>\n",
       "    </tr>\n",
       "  </thead>\n",
       "  <tbody>\n",
       "    <tr>\n",
       "      <th>0</th>\n",
       "      <td>856</td>\n",
       "      <td>854</td>\n",
       "      <td>0</td>\n",
       "      <td>3</td>\n",
       "      <td>0</td>\n",
       "      <td>0</td>\n",
       "      <td>0</td>\n",
       "      <td>0</td>\n",
       "      <td>0</td>\n",
       "      <td>0</td>\n",
       "      <td>...</td>\n",
       "      <td>1</td>\n",
       "      <td>0</td>\n",
       "      <td>1</td>\n",
       "      <td>8</td>\n",
       "      <td>856</td>\n",
       "      <td>0</td>\n",
       "      <td>0</td>\n",
       "      <td>2003</td>\n",
       "      <td>2003</td>\n",
       "      <td>2008</td>\n",
       "    </tr>\n",
       "    <tr>\n",
       "      <th>1</th>\n",
       "      <td>1262</td>\n",
       "      <td>0</td>\n",
       "      <td>0</td>\n",
       "      <td>3</td>\n",
       "      <td>0</td>\n",
       "      <td>0</td>\n",
       "      <td>0</td>\n",
       "      <td>0</td>\n",
       "      <td>0</td>\n",
       "      <td>0</td>\n",
       "      <td>...</td>\n",
       "      <td>1</td>\n",
       "      <td>0</td>\n",
       "      <td>1</td>\n",
       "      <td>6</td>\n",
       "      <td>1262</td>\n",
       "      <td>0</td>\n",
       "      <td>298</td>\n",
       "      <td>1976</td>\n",
       "      <td>1976</td>\n",
       "      <td>2007</td>\n",
       "    </tr>\n",
       "    <tr>\n",
       "      <th>2</th>\n",
       "      <td>920</td>\n",
       "      <td>866</td>\n",
       "      <td>0</td>\n",
       "      <td>3</td>\n",
       "      <td>0</td>\n",
       "      <td>0</td>\n",
       "      <td>0</td>\n",
       "      <td>0</td>\n",
       "      <td>0</td>\n",
       "      <td>0</td>\n",
       "      <td>...</td>\n",
       "      <td>1</td>\n",
       "      <td>0</td>\n",
       "      <td>1</td>\n",
       "      <td>6</td>\n",
       "      <td>920</td>\n",
       "      <td>0</td>\n",
       "      <td>0</td>\n",
       "      <td>2001</td>\n",
       "      <td>2002</td>\n",
       "      <td>2008</td>\n",
       "    </tr>\n",
       "    <tr>\n",
       "      <th>3</th>\n",
       "      <td>961</td>\n",
       "      <td>756</td>\n",
       "      <td>0</td>\n",
       "      <td>3</td>\n",
       "      <td>0</td>\n",
       "      <td>0</td>\n",
       "      <td>0</td>\n",
       "      <td>0</td>\n",
       "      <td>1</td>\n",
       "      <td>0</td>\n",
       "      <td>...</td>\n",
       "      <td>1</td>\n",
       "      <td>0</td>\n",
       "      <td>1</td>\n",
       "      <td>7</td>\n",
       "      <td>756</td>\n",
       "      <td>0</td>\n",
       "      <td>0</td>\n",
       "      <td>1915</td>\n",
       "      <td>1970</td>\n",
       "      <td>2006</td>\n",
       "    </tr>\n",
       "    <tr>\n",
       "      <th>4</th>\n",
       "      <td>1145</td>\n",
       "      <td>1053</td>\n",
       "      <td>0</td>\n",
       "      <td>4</td>\n",
       "      <td>0</td>\n",
       "      <td>0</td>\n",
       "      <td>0</td>\n",
       "      <td>0</td>\n",
       "      <td>0</td>\n",
       "      <td>0</td>\n",
       "      <td>...</td>\n",
       "      <td>1</td>\n",
       "      <td>0</td>\n",
       "      <td>1</td>\n",
       "      <td>9</td>\n",
       "      <td>1145</td>\n",
       "      <td>0</td>\n",
       "      <td>192</td>\n",
       "      <td>2000</td>\n",
       "      <td>2000</td>\n",
       "      <td>2008</td>\n",
       "    </tr>\n",
       "  </tbody>\n",
       "</table>\n",
       "<p>5 rows × 260 columns</p>\n",
       "</div>"
      ],
      "text/plain": [
       "   1stFlrSF  2ndFlrSF  3SsnPorch  BedroomAbvGr  BldgType_2fmCon  \\\n",
       "0       856       854          0             3                0   \n",
       "1      1262         0          0             3                0   \n",
       "2       920       866          0             3                0   \n",
       "3       961       756          0             3                0   \n",
       "4      1145      1053          0             4                0   \n",
       "\n",
       "   BldgType_Duplex  BldgType_Twnhs  BldgType_TwnhsE  BsmtCond_Gd  \\\n",
       "0                0               0                0            0   \n",
       "1                0               0                0            0   \n",
       "2                0               0                0            0   \n",
       "3                0               0                0            1   \n",
       "4                0               0                0            0   \n",
       "\n",
       "   BsmtCond_None  ...  SaleType_WD  ScreenPorch  Street_Pave  TotRmsAbvGrd  \\\n",
       "0              0  ...            1            0            1             8   \n",
       "1              0  ...            1            0            1             6   \n",
       "2              0  ...            1            0            1             6   \n",
       "3              0  ...            1            0            1             7   \n",
       "4              0  ...            1            0            1             9   \n",
       "\n",
       "   TotalBsmtSF  Utilities_NoSeWa  WoodDeckSF  YearBuilt  YearRemodAdd  YrSold  \n",
       "0          856                 0           0       2003          2003    2008  \n",
       "1         1262                 0         298       1976          1976    2007  \n",
       "2          920                 0           0       2001          2002    2008  \n",
       "3          756                 0           0       1915          1970    2006  \n",
       "4         1145                 0         192       2000          2000    2008  \n",
       "\n",
       "[5 rows x 260 columns]"
      ]
     },
     "execution_count": 3,
     "metadata": {},
     "output_type": "execute_result"
    }
   ],
   "source": [
    "df.head()"
   ]
  },
  {
   "cell_type": "code",
   "execution_count": 4,
   "metadata": {},
   "outputs": [],
   "source": [
    "from sklearn.model_selection import train_test_split"
   ]
  },
  {
   "cell_type": "code",
   "execution_count": 5,
   "metadata": {},
   "outputs": [],
   "source": [
    "X = df.drop(\"SalePrice\", axis=1)\n",
    "y = df[\"SalePrice\"]"
   ]
  },
  {
   "cell_type": "code",
   "execution_count": 6,
   "metadata": {},
   "outputs": [],
   "source": [
    "X_train, X_test, y_train, y_test = train_test_split(X, y, test_size=0.2, random_state=101)"
   ]
  },
  {
   "cell_type": "code",
   "execution_count": 7,
   "metadata": {},
   "outputs": [],
   "source": [
    "from sklearn.preprocessing import StandardScaler"
   ]
  },
  {
   "cell_type": "code",
   "execution_count": 8,
   "metadata": {},
   "outputs": [],
   "source": [
    "scaler = StandardScaler()\n",
    "\n",
    "X_train = scaler.fit_transform(X_train)\n",
    "X_test = scaler.transform(X_test)"
   ]
  },
  {
   "cell_type": "markdown",
   "metadata": {},
   "source": [
    "## RIDGE Regression"
   ]
  },
  {
   "cell_type": "code",
   "execution_count": 9,
   "metadata": {},
   "outputs": [],
   "source": [
    "from sklearn.linear_model import Ridge\n",
    "from sklearn.model_selection import GridSearchCV"
   ]
  },
  {
   "cell_type": "code",
   "execution_count": 10,
   "metadata": {},
   "outputs": [
    {
     "name": "stdout",
     "output_type": "stream",
     "text": [
      "Fitting 5 folds for each of 6 candidates, totalling 30 fits\n"
     ]
    },
    {
     "name": "stderr",
     "output_type": "stream",
     "text": [
      "[Parallel(n_jobs=1)]: Using backend SequentialBackend with 1 concurrent workers.\n",
      "[Parallel(n_jobs=1)]: Done  30 out of  30 | elapsed:    1.2s finished\n"
     ]
    },
    {
     "data": {
      "text/plain": [
       "GridSearchCV(cv=5, error_score='raise-deprecating',\n",
       "             estimator=Ridge(alpha=1.0, copy_X=True, fit_intercept=True,\n",
       "                             max_iter=None, normalize=False, random_state=None,\n",
       "                             solver='auto', tol=0.001),\n",
       "             iid='warn', n_jobs=None,\n",
       "             param_grid={'alpha': [0.1, 1, 5, 10, 50, 100]},\n",
       "             pre_dispatch='2*n_jobs', refit=True, return_train_score=False,\n",
       "             scoring='neg_mean_squared_error', verbose=1)"
      ]
     },
     "execution_count": 10,
     "metadata": {},
     "output_type": "execute_result"
    }
   ],
   "source": [
    "ridge_model = Ridge() ## Base Ridge Model\n",
    "\n",
    "param_grid ={'alpha':[0.1,1,5,10,50,100]}\n",
    "\n",
    "grid_model = GridSearchCV(ridge_model , param_grid,\n",
    "                          scoring='neg_mean_squared_error',\n",
    "                          cv=5, verbose=1)\n",
    "grid_model.fit(X_train, y_train)"
   ]
  },
  {
   "cell_type": "code",
   "execution_count": 11,
   "metadata": {},
   "outputs": [
    {
     "name": "stdout",
     "output_type": "stream",
     "text": [
      "{'alpha': 100}\n",
      "Ridge(alpha=100, copy_X=True, fit_intercept=True, max_iter=None,\n",
      "      normalize=False, random_state=None, solver='auto', tol=0.001)\n"
     ]
    }
   ],
   "source": [
    "print(grid_model.best_params_)\n",
    "print(grid_model.best_estimator_)"
   ]
  },
  {
   "cell_type": "code",
   "execution_count": 12,
   "metadata": {},
   "outputs": [],
   "source": [
    "ridge_predictions = grid_model.predict(X_test)"
   ]
  },
  {
   "cell_type": "code",
   "execution_count": 13,
   "metadata": {},
   "outputs": [],
   "source": [
    "from sklearn.metrics import mean_squared_error , mean_absolute_error\n",
    "\n",
    "MAE = mean_absolute_error(y_test , ridge_predictions)\n",
    "MSE = mean_squared_error(y_test , ridge_predictions)\n",
    "RMSE = np.sqrt(mean_squared_error(y_test , ridge_predictions))"
   ]
  },
  {
   "cell_type": "code",
   "execution_count": 14,
   "metadata": {},
   "outputs": [
    {
     "data": {
      "text/plain": [
       "(16622.434889273474, 627778456.5453106, 25055.507509234583)"
      ]
     },
     "execution_count": 14,
     "metadata": {},
     "output_type": "execute_result"
    }
   ],
   "source": [
    "MAE, MSE , RMSE"
   ]
  },
  {
   "cell_type": "markdown",
   "metadata": {},
   "source": [
    "## LASSO Regression"
   ]
  },
  {
   "cell_type": "code",
   "execution_count": 15,
   "metadata": {},
   "outputs": [
    {
     "name": "stdout",
     "output_type": "stream",
     "text": [
      "Fitting 5 folds for each of 6 candidates, totalling 30 fits\n"
     ]
    },
    {
     "name": "stderr",
     "output_type": "stream",
     "text": [
      "[Parallel(n_jobs=1)]: Using backend SequentialBackend with 1 concurrent workers.\n",
      "c:\\programdata\\anaconda3\\envs\\mytfenv\\lib\\site-packages\\sklearn\\linear_model\\coordinate_descent.py:475: ConvergenceWarning: Objective did not converge. You might want to increase the number of iterations. Duality gap: 155331183164.8709, tolerance: 634263344.7114304\n",
      "  positive)\n",
      "c:\\programdata\\anaconda3\\envs\\mytfenv\\lib\\site-packages\\sklearn\\linear_model\\coordinate_descent.py:475: ConvergenceWarning: Objective did not converge. You might want to increase the number of iterations. Duality gap: 110796479696.18373, tolerance: 542825675.5922031\n",
      "  positive)\n",
      "c:\\programdata\\anaconda3\\envs\\mytfenv\\lib\\site-packages\\sklearn\\linear_model\\coordinate_descent.py:475: ConvergenceWarning: Objective did not converge. You might want to increase the number of iterations. Duality gap: 134973973201.8291, tolerance: 606035408.3332475\n",
      "  positive)\n",
      "c:\\programdata\\anaconda3\\envs\\mytfenv\\lib\\site-packages\\sklearn\\linear_model\\coordinate_descent.py:475: ConvergenceWarning: Objective did not converge. You might want to increase the number of iterations. Duality gap: 148121225346.9671, tolerance: 583127623.4452742\n",
      "  positive)\n",
      "c:\\programdata\\anaconda3\\envs\\mytfenv\\lib\\site-packages\\sklearn\\linear_model\\coordinate_descent.py:475: ConvergenceWarning: Objective did not converge. You might want to increase the number of iterations. Duality gap: 138307361524.01764, tolerance: 619421290.1101532\n",
      "  positive)\n",
      "c:\\programdata\\anaconda3\\envs\\mytfenv\\lib\\site-packages\\sklearn\\linear_model\\coordinate_descent.py:475: ConvergenceWarning: Objective did not converge. You might want to increase the number of iterations. Duality gap: 83465216433.34776, tolerance: 634263344.7114304\n",
      "  positive)\n",
      "c:\\programdata\\anaconda3\\envs\\mytfenv\\lib\\site-packages\\sklearn\\linear_model\\coordinate_descent.py:475: ConvergenceWarning: Objective did not converge. You might want to increase the number of iterations. Duality gap: 55675066522.82863, tolerance: 542825675.5922031\n",
      "  positive)\n",
      "c:\\programdata\\anaconda3\\envs\\mytfenv\\lib\\site-packages\\sklearn\\linear_model\\coordinate_descent.py:475: ConvergenceWarning: Objective did not converge. You might want to increase the number of iterations. Duality gap: 77498602145.53725, tolerance: 606035408.3332475\n",
      "  positive)\n",
      "c:\\programdata\\anaconda3\\envs\\mytfenv\\lib\\site-packages\\sklearn\\linear_model\\coordinate_descent.py:475: ConvergenceWarning: Objective did not converge. You might want to increase the number of iterations. Duality gap: 78120381929.35463, tolerance: 583127623.4452742\n",
      "  positive)\n",
      "c:\\programdata\\anaconda3\\envs\\mytfenv\\lib\\site-packages\\sklearn\\linear_model\\coordinate_descent.py:475: ConvergenceWarning: Objective did not converge. You might want to increase the number of iterations. Duality gap: 68317662660.15509, tolerance: 619421290.1101532\n",
      "  positive)\n",
      "c:\\programdata\\anaconda3\\envs\\mytfenv\\lib\\site-packages\\sklearn\\linear_model\\coordinate_descent.py:475: ConvergenceWarning: Objective did not converge. You might want to increase the number of iterations. Duality gap: 25717120092.02597, tolerance: 634263344.7114304\n",
      "  positive)\n",
      "c:\\programdata\\anaconda3\\envs\\mytfenv\\lib\\site-packages\\sklearn\\linear_model\\coordinate_descent.py:475: ConvergenceWarning: Objective did not converge. You might want to increase the number of iterations. Duality gap: 14859679997.158539, tolerance: 542825675.5922031\n",
      "  positive)\n",
      "c:\\programdata\\anaconda3\\envs\\mytfenv\\lib\\site-packages\\sklearn\\linear_model\\coordinate_descent.py:475: ConvergenceWarning: Objective did not converge. You might want to increase the number of iterations. Duality gap: 27078056848.706635, tolerance: 606035408.3332475\n",
      "  positive)\n",
      "c:\\programdata\\anaconda3\\envs\\mytfenv\\lib\\site-packages\\sklearn\\linear_model\\coordinate_descent.py:475: ConvergenceWarning: Objective did not converge. You might want to increase the number of iterations. Duality gap: 24504521503.391754, tolerance: 583127623.4452742\n",
      "  positive)\n",
      "c:\\programdata\\anaconda3\\envs\\mytfenv\\lib\\site-packages\\sklearn\\linear_model\\coordinate_descent.py:475: ConvergenceWarning: Objective did not converge. You might want to increase the number of iterations. Duality gap: 17955035231.146484, tolerance: 619421290.1101532\n",
      "  positive)\n",
      "c:\\programdata\\anaconda3\\envs\\mytfenv\\lib\\site-packages\\sklearn\\linear_model\\coordinate_descent.py:475: ConvergenceWarning: Objective did not converge. You might want to increase the number of iterations. Duality gap: 26890141117.2854, tolerance: 634263344.7114304\n",
      "  positive)\n",
      "c:\\programdata\\anaconda3\\envs\\mytfenv\\lib\\site-packages\\sklearn\\linear_model\\coordinate_descent.py:475: ConvergenceWarning: Objective did not converge. You might want to increase the number of iterations. Duality gap: 16131284406.992828, tolerance: 542825675.5922031\n",
      "  positive)\n",
      "c:\\programdata\\anaconda3\\envs\\mytfenv\\lib\\site-packages\\sklearn\\linear_model\\coordinate_descent.py:475: ConvergenceWarning: Objective did not converge. You might want to increase the number of iterations. Duality gap: 25646821996.213898, tolerance: 606035408.3332475\n",
      "  positive)\n",
      "c:\\programdata\\anaconda3\\envs\\mytfenv\\lib\\site-packages\\sklearn\\linear_model\\coordinate_descent.py:475: ConvergenceWarning: Objective did not converge. You might want to increase the number of iterations. Duality gap: 22426901791.366425, tolerance: 583127623.4452742\n",
      "  positive)\n",
      "c:\\programdata\\anaconda3\\envs\\mytfenv\\lib\\site-packages\\sklearn\\linear_model\\coordinate_descent.py:475: ConvergenceWarning: Objective did not converge. You might want to increase the number of iterations. Duality gap: 18320422359.61963, tolerance: 619421290.1101532\n",
      "  positive)\n",
      "c:\\programdata\\anaconda3\\envs\\mytfenv\\lib\\site-packages\\sklearn\\linear_model\\coordinate_descent.py:475: ConvergenceWarning: Objective did not converge. You might want to increase the number of iterations. Duality gap: 9769824097.755035, tolerance: 634263344.7114304\n",
      "  positive)\n",
      "c:\\programdata\\anaconda3\\envs\\mytfenv\\lib\\site-packages\\sklearn\\linear_model\\coordinate_descent.py:475: ConvergenceWarning: Objective did not converge. You might want to increase the number of iterations. Duality gap: 9273933275.32669, tolerance: 606035408.3332475\n",
      "  positive)\n",
      "c:\\programdata\\anaconda3\\envs\\mytfenv\\lib\\site-packages\\sklearn\\linear_model\\coordinate_descent.py:475: ConvergenceWarning: Objective did not converge. You might want to increase the number of iterations. Duality gap: 8949282780.233246, tolerance: 583127623.4452742\n",
      "  positive)\n",
      "c:\\programdata\\anaconda3\\envs\\mytfenv\\lib\\site-packages\\sklearn\\linear_model\\coordinate_descent.py:475: ConvergenceWarning: Objective did not converge. You might want to increase the number of iterations. Duality gap: 9605092478.405823, tolerance: 619421290.1101532\n",
      "  positive)\n",
      "[Parallel(n_jobs=1)]: Done  30 out of  30 | elapsed:    9.1s finished\n"
     ]
    },
    {
     "data": {
      "text/plain": [
       "GridSearchCV(cv=5, error_score='raise-deprecating',\n",
       "             estimator=Lasso(alpha=1.0, copy_X=True, fit_intercept=True,\n",
       "                             max_iter=1000, normalize=False, positive=False,\n",
       "                             precompute=False, random_state=None,\n",
       "                             selection='cyclic', tol=0.0001, warm_start=False),\n",
       "             iid='warn', n_jobs=None,\n",
       "             param_grid={'alpha': [0.1, 1, 5, 10, 50, 100]},\n",
       "             pre_dispatch='2*n_jobs', refit=True, return_train_score=False,\n",
       "             scoring='neg_mean_squared_error', verbose=1)"
      ]
     },
     "execution_count": 15,
     "metadata": {},
     "output_type": "execute_result"
    }
   ],
   "source": [
    "from sklearn.linear_model import Lasso\n",
    "\n",
    "lasso_model = Lasso() ## Base Ridge Model\n",
    "\n",
    "param_grid ={'alpha':[0.1,1,5,10,50,100]}\n",
    "\n",
    "grid_model = GridSearchCV(lasso_model , param_grid,\n",
    "                          scoring='neg_mean_squared_error',\n",
    "                          cv=5, verbose=1)\n",
    "grid_model.fit(X_train, y_train)"
   ]
  },
  {
   "cell_type": "code",
   "execution_count": 16,
   "metadata": {},
   "outputs": [
    {
     "name": "stdout",
     "output_type": "stream",
     "text": [
      "{'alpha': 100}\n",
      "Lasso(alpha=100, copy_X=True, fit_intercept=True, max_iter=1000,\n",
      "      normalize=False, positive=False, precompute=False, random_state=None,\n",
      "      selection='cyclic', tol=0.0001, warm_start=False)\n"
     ]
    }
   ],
   "source": [
    "print(grid_model.best_params_)\n",
    "print(grid_model.best_estimator_)"
   ]
  },
  {
   "cell_type": "code",
   "execution_count": 17,
   "metadata": {},
   "outputs": [],
   "source": [
    "lasso_predictions = grid_model.predict(X_test)\n",
    "\n",
    "MAE = mean_absolute_error(y_test , lasso_predictions)\n",
    "MSE = mean_squared_error(y_test , lasso_predictions)\n",
    "RMSE = np.sqrt(mean_squared_error(y_test , lasso_predictions))"
   ]
  },
  {
   "cell_type": "code",
   "execution_count": 18,
   "metadata": {},
   "outputs": [
    {
     "data": {
      "text/plain": [
       "(16199.35251322005, 615214442.4640465, 24803.516735818863)"
      ]
     },
     "execution_count": 18,
     "metadata": {},
     "output_type": "execute_result"
    }
   ],
   "source": [
    "MAE, MSE , RMSE"
   ]
  },
  {
   "cell_type": "markdown",
   "metadata": {},
   "source": [
    "## ELASTICNET Regression"
   ]
  },
  {
   "cell_type": "code",
   "execution_count": 19,
   "metadata": {},
   "outputs": [
    {
     "name": "stdout",
     "output_type": "stream",
     "text": [
      "Fitting 5 folds for each of 42 candidates, totalling 210 fits\n"
     ]
    },
    {
     "name": "stderr",
     "output_type": "stream",
     "text": [
      "[Parallel(n_jobs=1)]: Using backend SequentialBackend with 1 concurrent workers.\n",
      "c:\\programdata\\anaconda3\\envs\\mytfenv\\lib\\site-packages\\sklearn\\linear_model\\coordinate_descent.py:475: ConvergenceWarning: Objective did not converge. You might want to increase the number of iterations. Duality gap: 6988322830.11441, tolerance: 634263344.7114304\n",
      "  positive)\n",
      "c:\\programdata\\anaconda3\\envs\\mytfenv\\lib\\site-packages\\sklearn\\linear_model\\coordinate_descent.py:475: ConvergenceWarning: Objective did not converge. You might want to increase the number of iterations. Duality gap: 2632109691.4630737, tolerance: 542825675.5922031\n",
      "  positive)\n",
      "c:\\programdata\\anaconda3\\envs\\mytfenv\\lib\\site-packages\\sklearn\\linear_model\\coordinate_descent.py:475: ConvergenceWarning: Objective did not converge. You might want to increase the number of iterations. Duality gap: 5277973273.497925, tolerance: 606035408.3332475\n",
      "  positive)\n",
      "c:\\programdata\\anaconda3\\envs\\mytfenv\\lib\\site-packages\\sklearn\\linear_model\\coordinate_descent.py:475: ConvergenceWarning: Objective did not converge. You might want to increase the number of iterations. Duality gap: 47391212897.56738, tolerance: 583127623.4452742\n",
      "  positive)\n",
      "c:\\programdata\\anaconda3\\envs\\mytfenv\\lib\\site-packages\\sklearn\\linear_model\\coordinate_descent.py:475: ConvergenceWarning: Objective did not converge. You might want to increase the number of iterations. Duality gap: 20997771659.400574, tolerance: 619421290.1101532\n",
      "  positive)\n",
      "c:\\programdata\\anaconda3\\envs\\mytfenv\\lib\\site-packages\\sklearn\\linear_model\\coordinate_descent.py:475: ConvergenceWarning: Objective did not converge. You might want to increase the number of iterations. Duality gap: 89614660245.73859, tolerance: 634263344.7114304\n",
      "  positive)\n",
      "c:\\programdata\\anaconda3\\envs\\mytfenv\\lib\\site-packages\\sklearn\\linear_model\\coordinate_descent.py:475: ConvergenceWarning: Objective did not converge. You might want to increase the number of iterations. Duality gap: 77168313282.66052, tolerance: 542825675.5922031\n",
      "  positive)\n",
      "c:\\programdata\\anaconda3\\envs\\mytfenv\\lib\\site-packages\\sklearn\\linear_model\\coordinate_descent.py:475: ConvergenceWarning: Objective did not converge. You might want to increase the number of iterations. Duality gap: 92623421018.81094, tolerance: 606035408.3332475\n",
      "  positive)\n",
      "c:\\programdata\\anaconda3\\envs\\mytfenv\\lib\\site-packages\\sklearn\\linear_model\\coordinate_descent.py:475: ConvergenceWarning: Objective did not converge. You might want to increase the number of iterations. Duality gap: 105685684614.04555, tolerance: 583127623.4452742\n",
      "  positive)\n",
      "c:\\programdata\\anaconda3\\envs\\mytfenv\\lib\\site-packages\\sklearn\\linear_model\\coordinate_descent.py:475: ConvergenceWarning: Objective did not converge. You might want to increase the number of iterations. Duality gap: 133972633956.2254, tolerance: 619421290.1101532\n",
      "  positive)\n",
      "c:\\programdata\\anaconda3\\envs\\mytfenv\\lib\\site-packages\\sklearn\\linear_model\\coordinate_descent.py:475: ConvergenceWarning: Objective did not converge. You might want to increase the number of iterations. Duality gap: 164577826175.6584, tolerance: 634263344.7114304\n",
      "  positive)\n",
      "c:\\programdata\\anaconda3\\envs\\mytfenv\\lib\\site-packages\\sklearn\\linear_model\\coordinate_descent.py:475: ConvergenceWarning: Objective did not converge. You might want to increase the number of iterations. Duality gap: 126000148947.47679, tolerance: 542825675.5922031\n",
      "  positive)\n",
      "c:\\programdata\\anaconda3\\envs\\mytfenv\\lib\\site-packages\\sklearn\\linear_model\\coordinate_descent.py:475: ConvergenceWarning: Objective did not converge. You might want to increase the number of iterations. Duality gap: 144075478852.45377, tolerance: 606035408.3332475\n",
      "  positive)\n",
      "c:\\programdata\\anaconda3\\envs\\mytfenv\\lib\\site-packages\\sklearn\\linear_model\\coordinate_descent.py:475: ConvergenceWarning: Objective did not converge. You might want to increase the number of iterations. Duality gap: 157195610063.90536, tolerance: 583127623.4452742\n",
      "  positive)\n",
      "c:\\programdata\\anaconda3\\envs\\mytfenv\\lib\\site-packages\\sklearn\\linear_model\\coordinate_descent.py:475: ConvergenceWarning: Objective did not converge. You might want to increase the number of iterations. Duality gap: 162136187981.35684, tolerance: 619421290.1101532\n",
      "  positive)\n",
      "c:\\programdata\\anaconda3\\envs\\mytfenv\\lib\\site-packages\\sklearn\\linear_model\\coordinate_descent.py:475: ConvergenceWarning: Objective did not converge. You might want to increase the number of iterations. Duality gap: 155331183164.8709, tolerance: 634263344.7114304\n",
      "  positive)\n",
      "c:\\programdata\\anaconda3\\envs\\mytfenv\\lib\\site-packages\\sklearn\\linear_model\\coordinate_descent.py:475: ConvergenceWarning: Objective did not converge. You might want to increase the number of iterations. Duality gap: 110796479696.18373, tolerance: 542825675.5922031\n",
      "  positive)\n",
      "c:\\programdata\\anaconda3\\envs\\mytfenv\\lib\\site-packages\\sklearn\\linear_model\\coordinate_descent.py:475: ConvergenceWarning: Objective did not converge. You might want to increase the number of iterations. Duality gap: 134973973201.8291, tolerance: 606035408.3332475\n",
      "  positive)\n",
      "c:\\programdata\\anaconda3\\envs\\mytfenv\\lib\\site-packages\\sklearn\\linear_model\\coordinate_descent.py:475: ConvergenceWarning: Objective did not converge. You might want to increase the number of iterations. Duality gap: 148121225346.9671, tolerance: 583127623.4452742\n",
      "  positive)\n",
      "c:\\programdata\\anaconda3\\envs\\mytfenv\\lib\\site-packages\\sklearn\\linear_model\\coordinate_descent.py:475: ConvergenceWarning: Objective did not converge. You might want to increase the number of iterations. Duality gap: 138307361524.01764, tolerance: 619421290.1101532\n",
      "  positive)\n",
      "c:\\programdata\\anaconda3\\envs\\mytfenv\\lib\\site-packages\\sklearn\\linear_model\\coordinate_descent.py:475: ConvergenceWarning: Objective did not converge. You might want to increase the number of iterations. Duality gap: 83465216433.34776, tolerance: 634263344.7114304\n",
      "  positive)\n",
      "c:\\programdata\\anaconda3\\envs\\mytfenv\\lib\\site-packages\\sklearn\\linear_model\\coordinate_descent.py:475: ConvergenceWarning: Objective did not converge. You might want to increase the number of iterations. Duality gap: 55675066522.82863, tolerance: 542825675.5922031\n",
      "  positive)\n",
      "c:\\programdata\\anaconda3\\envs\\mytfenv\\lib\\site-packages\\sklearn\\linear_model\\coordinate_descent.py:475: ConvergenceWarning: Objective did not converge. You might want to increase the number of iterations. Duality gap: 77498602145.53725, tolerance: 606035408.3332475\n",
      "  positive)\n",
      "c:\\programdata\\anaconda3\\envs\\mytfenv\\lib\\site-packages\\sklearn\\linear_model\\coordinate_descent.py:475: ConvergenceWarning: Objective did not converge. You might want to increase the number of iterations. Duality gap: 78120381929.35463, tolerance: 583127623.4452742\n",
      "  positive)\n",
      "c:\\programdata\\anaconda3\\envs\\mytfenv\\lib\\site-packages\\sklearn\\linear_model\\coordinate_descent.py:475: ConvergenceWarning: Objective did not converge. You might want to increase the number of iterations. Duality gap: 68317662660.15509, tolerance: 619421290.1101532\n",
      "  positive)\n",
      "c:\\programdata\\anaconda3\\envs\\mytfenv\\lib\\site-packages\\sklearn\\linear_model\\coordinate_descent.py:475: ConvergenceWarning: Objective did not converge. You might want to increase the number of iterations. Duality gap: 25717120092.02597, tolerance: 634263344.7114304\n",
      "  positive)\n",
      "c:\\programdata\\anaconda3\\envs\\mytfenv\\lib\\site-packages\\sklearn\\linear_model\\coordinate_descent.py:475: ConvergenceWarning: Objective did not converge. You might want to increase the number of iterations. Duality gap: 14859679997.158539, tolerance: 542825675.5922031\n",
      "  positive)\n",
      "c:\\programdata\\anaconda3\\envs\\mytfenv\\lib\\site-packages\\sklearn\\linear_model\\coordinate_descent.py:475: ConvergenceWarning: Objective did not converge. You might want to increase the number of iterations. Duality gap: 27078056848.706635, tolerance: 606035408.3332475\n",
      "  positive)\n",
      "c:\\programdata\\anaconda3\\envs\\mytfenv\\lib\\site-packages\\sklearn\\linear_model\\coordinate_descent.py:475: ConvergenceWarning: Objective did not converge. You might want to increase the number of iterations. Duality gap: 24504521503.391754, tolerance: 583127623.4452742\n",
      "  positive)\n",
      "c:\\programdata\\anaconda3\\envs\\mytfenv\\lib\\site-packages\\sklearn\\linear_model\\coordinate_descent.py:475: ConvergenceWarning: Objective did not converge. You might want to increase the number of iterations. Duality gap: 17955035231.146484, tolerance: 619421290.1101532\n",
      "  positive)\n"
     ]
    },
    {
     "name": "stderr",
     "output_type": "stream",
     "text": [
      "c:\\programdata\\anaconda3\\envs\\mytfenv\\lib\\site-packages\\sklearn\\linear_model\\coordinate_descent.py:475: ConvergenceWarning: Objective did not converge. You might want to increase the number of iterations. Duality gap: 26890141117.2854, tolerance: 634263344.7114304\n",
      "  positive)\n",
      "c:\\programdata\\anaconda3\\envs\\mytfenv\\lib\\site-packages\\sklearn\\linear_model\\coordinate_descent.py:475: ConvergenceWarning: Objective did not converge. You might want to increase the number of iterations. Duality gap: 16131284406.992828, tolerance: 542825675.5922031\n",
      "  positive)\n",
      "c:\\programdata\\anaconda3\\envs\\mytfenv\\lib\\site-packages\\sklearn\\linear_model\\coordinate_descent.py:475: ConvergenceWarning: Objective did not converge. You might want to increase the number of iterations. Duality gap: 25646821996.213898, tolerance: 606035408.3332475\n",
      "  positive)\n",
      "c:\\programdata\\anaconda3\\envs\\mytfenv\\lib\\site-packages\\sklearn\\linear_model\\coordinate_descent.py:475: ConvergenceWarning: Objective did not converge. You might want to increase the number of iterations. Duality gap: 22426901791.366425, tolerance: 583127623.4452742\n",
      "  positive)\n",
      "c:\\programdata\\anaconda3\\envs\\mytfenv\\lib\\site-packages\\sklearn\\linear_model\\coordinate_descent.py:475: ConvergenceWarning: Objective did not converge. You might want to increase the number of iterations. Duality gap: 18320422359.61963, tolerance: 619421290.1101532\n",
      "  positive)\n",
      "c:\\programdata\\anaconda3\\envs\\mytfenv\\lib\\site-packages\\sklearn\\linear_model\\coordinate_descent.py:475: ConvergenceWarning: Objective did not converge. You might want to increase the number of iterations. Duality gap: 9769824097.755035, tolerance: 634263344.7114304\n",
      "  positive)\n",
      "c:\\programdata\\anaconda3\\envs\\mytfenv\\lib\\site-packages\\sklearn\\linear_model\\coordinate_descent.py:475: ConvergenceWarning: Objective did not converge. You might want to increase the number of iterations. Duality gap: 9273933275.32669, tolerance: 606035408.3332475\n",
      "  positive)\n",
      "c:\\programdata\\anaconda3\\envs\\mytfenv\\lib\\site-packages\\sklearn\\linear_model\\coordinate_descent.py:475: ConvergenceWarning: Objective did not converge. You might want to increase the number of iterations. Duality gap: 8949282780.233246, tolerance: 583127623.4452742\n",
      "  positive)\n",
      "c:\\programdata\\anaconda3\\envs\\mytfenv\\lib\\site-packages\\sklearn\\linear_model\\coordinate_descent.py:475: ConvergenceWarning: Objective did not converge. You might want to increase the number of iterations. Duality gap: 9605092478.405823, tolerance: 619421290.1101532\n",
      "  positive)\n",
      "[Parallel(n_jobs=1)]: Done 210 out of 210 | elapsed:   26.3s finished\n"
     ]
    },
    {
     "data": {
      "text/plain": [
       "GridSearchCV(cv=5, error_score='raise-deprecating',\n",
       "             estimator=ElasticNet(alpha=1.0, copy_X=True, fit_intercept=True,\n",
       "                                  l1_ratio=0.5, max_iter=1000, normalize=False,\n",
       "                                  positive=False, precompute=False,\n",
       "                                  random_state=None, selection='cyclic',\n",
       "                                  tol=0.0001, warm_start=False),\n",
       "             iid='warn', n_jobs=None,\n",
       "             param_grid={'alpha': [0.1, 1, 5, 10, 50, 100],\n",
       "                         'l1_ratio': [0.1, 0.5, 0.7, 0.9, 0.95, 0.99, 1]},\n",
       "             pre_dispatch='2*n_jobs', refit=True, return_train_score=False,\n",
       "             scoring='neg_mean_squared_error', verbose=1)"
      ]
     },
     "execution_count": 19,
     "metadata": {},
     "output_type": "execute_result"
    }
   ],
   "source": [
    "from sklearn.linear_model import ElasticNet\n",
    "\n",
    "elastic_model = ElasticNet() ## Base Ridge Model\n",
    "\n",
    "param_grid = {'alpha':[0.1,1,5,10,50,100],\n",
    "              'l1_ratio':[.1, .5, .7, .9, .95, .99, 1]}\n",
    "\n",
    "grid_model = GridSearchCV(elastic_model , param_grid,\n",
    "                          scoring='neg_mean_squared_error',\n",
    "                          cv=5, verbose=1)\n",
    "grid_model.fit(X_train, y_train)"
   ]
  },
  {
   "cell_type": "code",
   "execution_count": 20,
   "metadata": {},
   "outputs": [
    {
     "name": "stdout",
     "output_type": "stream",
     "text": [
      "{'alpha': 10, 'l1_ratio': 0.99}\n",
      "ElasticNet(alpha=10, copy_X=True, fit_intercept=True, l1_ratio=0.99,\n",
      "           max_iter=1000, normalize=False, positive=False, precompute=False,\n",
      "           random_state=None, selection='cyclic', tol=0.0001, warm_start=False)\n"
     ]
    }
   ],
   "source": [
    "print(grid_model.best_params_)\n",
    "print(grid_model.best_estimator_)"
   ]
  },
  {
   "cell_type": "code",
   "execution_count": 21,
   "metadata": {},
   "outputs": [],
   "source": [
    "elastic_predictions = grid_model.predict(X_test)\n",
    "\n",
    "MAE = mean_absolute_error(y_test , elastic_predictions)\n",
    "MSE = mean_squared_error(y_test , elastic_predictions)\n",
    "RMSE = np.sqrt(mean_squared_error(y_test , elastic_predictions))"
   ]
  },
  {
   "cell_type": "code",
   "execution_count": 22,
   "metadata": {},
   "outputs": [
    {
     "data": {
      "text/plain": [
       "(16615.866617639284, 626850866.7885984, 25036.98997061345)"
      ]
     },
     "execution_count": 22,
     "metadata": {},
     "output_type": "execute_result"
    }
   ],
   "source": [
    "MAE, MSE , RMSE"
   ]
  },
  {
   "cell_type": "code",
   "execution_count": null,
   "metadata": {},
   "outputs": [],
   "source": []
  }
 ],
 "metadata": {
  "kernelspec": {
   "display_name": "Python 3",
   "language": "python",
   "name": "python3"
  },
  "language_info": {
   "codemirror_mode": {
    "name": "ipython",
    "version": 3
   },
   "file_extension": ".py",
   "mimetype": "text/x-python",
   "name": "python",
   "nbconvert_exporter": "python",
   "pygments_lexer": "ipython3",
   "version": "3.7.9"
  }
 },
 "nbformat": 4,
 "nbformat_minor": 4
}
